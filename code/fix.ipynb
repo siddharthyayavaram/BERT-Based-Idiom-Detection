{
 "cells": [
  {
   "cell_type": "code",
   "execution_count": 1,
   "metadata": {},
   "outputs": [],
   "source": [
    "from transformers import BertTokenizerFast\n",
    "\n",
    "# Load the BERT tokenizer\n",
    "\n",
    "tokenizer = BertTokenizerFast.from_pretrained('bert-base-uncased')"
   ]
  },
  {
   "cell_type": "code",
   "execution_count": 3,
   "metadata": {},
   "outputs": [
    {
     "name": "stderr",
     "output_type": "stream",
     "text": [
      "[nltk_data] Downloading package wordnet to\n",
      "[nltk_data]     C:\\Users\\siddh\\AppData\\Roaming\\nltk_data...\n",
      "[nltk_data]   Package wordnet is already up-to-date!\n"
     ]
    }
   ],
   "source": [
    "from googletrans import Translator\n",
    "\n",
    "translator=Translator()\n",
    "\n",
    "from nltk.translate import meteor_score\n",
    "\n",
    "import nltk\n",
    "nltk.download('wordnet')\n",
    "import time\n",
    "\n",
    "def meteor(sen, max_retries=3, timeout_seconds=10):\n",
    "    for retry in range(max_retries):\n",
    "        try:\n",
    "            translated_text = translator.translate(sen, dest='it', timeout=timeout_seconds).text\n",
    "            back_translated_text = translator.translate(translated_text, dest='en', timeout=timeout_seconds).text\n",
    "            bsen = back_translated_text\n",
    "            print(bsen)\n",
    "            r = [sen.split()]\n",
    "            c = bsen.split()\n",
    "            meteor_score_value = meteor_score.meteor_score(r, c)\n",
    "\n",
    "            return meteor_score_value, sen, bsen\n",
    "        except Exception as e:\n",
    "            print(f\"An error occurred during translation (Retry {retry + 1}/{max_retries}): {e}\")\n",
    "            # Handle other exceptions if needed\n",
    "            time.sleep(1)  # Add a delay before retrying\n",
    "\n",
    "    print(f\"Failed to translate after {max_retries} retries.\")\n",
    "    return 0, None, None"
   ]
  },
  {
   "cell_type": "code",
   "execution_count": 7,
   "metadata": {},
   "outputs": [
    {
     "name": "stdout",
     "output_type": "stream",
     "text": [
      "The morning flight forced them to go to bed much earlier than usual\n"
     ]
    }
   ],
   "source": [
    "y,i,j = meteor('The early morning flight required them to hit the sack much earlier than usual')"
   ]
  },
  {
   "cell_type": "code",
   "execution_count": 8,
   "metadata": {},
   "outputs": [
    {
     "data": {
      "text/plain": [
       "0.5919708677502443"
      ]
     },
     "execution_count": 8,
     "metadata": {},
     "output_type": "execute_result"
    }
   ],
   "source": [
    "y"
   ]
  }
 ],
 "metadata": {
  "kernelspec": {
   "display_name": "Python 3",
   "language": "python",
   "name": "python3"
  },
  "language_info": {
   "codemirror_mode": {
    "name": "ipython",
    "version": 3
   },
   "file_extension": ".py",
   "mimetype": "text/x-python",
   "name": "python",
   "nbconvert_exporter": "python",
   "pygments_lexer": "ipython3",
   "version": "3.11.4"
  }
 },
 "nbformat": 4,
 "nbformat_minor": 2
}
