{
 "cells": [
  {
   "cell_type": "code",
   "execution_count": 1,
   "metadata": {},
   "outputs": [],
   "source": [
    "from transformers import BertTokenizerFast\n",
    "\n",
    "# Load the BERT tokenizer\n",
    "\n",
    "tokenizer = BertTokenizerFast.from_pretrained('bert-base-uncased')"
   ]
  },
  {
   "cell_type": "code",
   "execution_count": 4,
   "metadata": {},
   "outputs": [],
   "source": [
    "# Function to process each element and write to the file\n",
    "def process_and_write_to_file(element, file):\n",
    "    # Split the text into lines\n",
    "    lines = element.strip().split('\\n')\n",
    "\n",
    "    tokenized_sentences = []\n",
    "    predictions = []\n",
    "    labels = []\n",
    "\n",
    "    spl = []\n",
    "    for line in lines:\n",
    "        spl.append(line.split())\n",
    "\n",
    "    sen = [w[3] for w in spl if len(w) == 6]\n",
    "\n",
    "    # Assuming 'tokenizer' is your tokenizer function\n",
    "    tok = tokenizer(sen, is_split_into_words=True)\n",
    "    tokens = tokenizer.convert_ids_to_tokens(tok['input_ids'])\n",
    "    labels = [w[-1] for w in spl]\n",
    "    prediction = [w[1] for w in spl]\n",
    "\n",
    "    tokens = tokens[1:-1]\n",
    "\n",
    "    # Align tokens and labels\n",
    "    max_length = max(len(tokens), len(labels))\n",
    "    tokens += [''] * (max_length - len(tokens))\n",
    "    labels += [''] * (max_length - len(labels))\n",
    "\n",
    "    # Write the aligned output to the file\n",
    "    for token, label, pred in zip(tokens, labels, prediction):\n",
    "        file.write(f\"Prediction: {pred.ljust(10)} Token: {token.ljust(15)} Label: {label}\\n\")\n",
    "    file.write(\"\\n\")  # Add a newline to separate each entry\n",
    "\n",
    "# Read the content of the file\n",
    "with open('err_analysis_formal_trans.txt', 'r', encoding='utf-8') as file:\n",
    "    file_content = file.read()\n",
    "\n",
    "# Split the content into a list based on empty lines\n",
    "text_list = [part.strip() for part in file_content.strip().split('\\n\\n')]\n",
    "\n",
    "# Open a text file for writing\n",
    "with open(\"err_analysis_formal_trans.txt\", \"w\", encoding='utf-8') as file:\n",
    "    # Iterate through each element and process\n",
    "    for i, element in enumerate(text_list, 1):\n",
    "        process_and_write_to_file(element, file)"
   ]
  },
  {
   "cell_type": "markdown",
   "metadata": {},
   "source": [
    "Testing the meteor score computation"
   ]
  },
  {
   "cell_type": "code",
   "execution_count": null,
   "metadata": {},
   "outputs": [],
   "source": [
    "from googletrans import Translator\n",
    "\n",
    "translator=Translator()\n",
    "\n",
    "from nltk.translate import meteor_score\n",
    "\n",
    "import nltk\n",
    "nltk.download('wordnet')\n",
    "import time\n",
    "\n",
    "def meteor(sen, max_retries=3, timeout_seconds=10):\n",
    "    for retry in range(max_retries):\n",
    "        try:\n",
    "            translated_text = translator.translate(sen, dest='it', timeout=timeout_seconds).text\n",
    "            back_translated_text = translator.translate(translated_text, dest='en', timeout=timeout_seconds).text\n",
    "            bsen = back_translated_text\n",
    "            print(bsen)\n",
    "            r = [sen.split()]\n",
    "            c = bsen.split()\n",
    "            meteor_score_value = meteor_score.meteor_score(r, c)\n",
    "\n",
    "            return meteor_score_value, sen, bsen\n",
    "        except Exception as e:\n",
    "            print(f\"An error occurred during translation (Retry {retry + 1}/{max_retries}): {e}\")\n",
    "            # Handle other exceptions if needed\n",
    "            time.sleep(1)  # Add a delay before retrying\n",
    "\n",
    "    print(f\"Failed to translate after {max_retries} retries.\")\n",
    "    return 0, None, None"
   ]
  },
  {
   "cell_type": "code",
   "execution_count": 7,
   "metadata": {},
   "outputs": [
    {
     "name": "stdout",
     "output_type": "stream",
     "text": [
      "The morning flight forced them to go to bed much earlier than usual\n"
     ]
    }
   ],
   "source": [
    "y,i,j = meteor('The early morning flight required them to hit the sack much earlier than usual')"
   ]
  },
  {
   "cell_type": "code",
   "execution_count": 8,
   "metadata": {},
   "outputs": [
    {
     "data": {
      "text/plain": [
       "0.5919708677502443"
      ]
     },
     "execution_count": 8,
     "metadata": {},
     "output_type": "execute_result"
    }
   ],
   "source": [
    "y"
   ]
  }
 ],
 "metadata": {
  "kernelspec": {
   "display_name": "Python 3",
   "language": "python",
   "name": "python3"
  },
  "language_info": {
   "codemirror_mode": {
    "name": "ipython",
    "version": 3
   },
   "file_extension": ".py",
   "mimetype": "text/x-python",
   "name": "python",
   "nbconvert_exporter": "python",
   "pygments_lexer": "ipython3",
   "version": "3.11.4"
  }
 },
 "nbformat": 4,
 "nbformat_minor": 2
}
